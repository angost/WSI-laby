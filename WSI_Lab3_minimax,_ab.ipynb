{
  "cells": [
    {
      "cell_type": "markdown",
      "source": [
        "# Ćwiczenie 3\n",
        "\n",
        "Celem ćwiczenia jest imlementacja metody [Minimax z obcinaniem alpha-beta](https://en.wikipedia.org/wiki/Alpha%E2%80%93beta_pruning) do gry Connect Four (czwórki).\n",
        "\n",
        "W trakcie ćwiczenia można skorzystać z reposytorium z implementacją gry [Connect Four udostępnionym przez Jakuba Łyskawę](https://github.com/lychanl/two-player-games). Ewentualnie, można zaimplementować samemu grę Connect Four (ale, tak aby rozwiązanie miało ten sam interfejs co podany poniżej).\n",
        "\n",
        "Implementację Minimax należy przetestować używając różną głębokość przeszukiwania. Implementacja Solvera musi zapewniać interfejs jak poniżej, ale można dodać dowolne metody prywatne oraz klasy wspomagające (jeżeli będą potrzebne).\n",
        "\n",
        "Punktacja:\n",
        "- Działająca metoda Minimax - **2 pkt**\n",
        "- Działająca metoda Minimax z obcinaniem alpha-beta - **1.5 pkt**\n",
        "- Analiza jakości solvera w zależności od głębokości przeszukiwania **1.5pkt**\n",
        "    - należy zaimplementować w tym celu prostą wizualizację rozgrywki dwóch agentów, bądź kilka przykładów 'z ręki'\n",
        "- Jakość kodu **2pkt**"
      ],
      "metadata": {
        "collapsed": false,
        "id": "0XiqnEmjdUXl"
      }
    },
    {
      "cell_type": "markdown",
      "source": [
        "Aby importowanie elementów z poniższej komórki działało należy umieścić tego notebooka w tym samym folderze co paczkę `two_player_games`:\n",
        "```\n",
        "├── LICENSE\n",
        "├── README.md\n",
        "├── minimax.ipynb # <<< HERE\n",
        "├── test\n",
        "│   ├── __init__.py\n",
        "│   ├── test_connect_four.py\n",
        "│   ├── test_dots_and_boxes.py\n",
        "│   └── test_pick.py\n",
        "└── two_player_games\n",
        "    ├── __init__.py\n",
        "    ├── games\n",
        "    │   ├── connect_four.py\n",
        "    │   └── dots_and_boxes.py\n",
        "    ├── move.py\n",
        "    ├── player.py\n",
        "    └── state.py\n",
        "```"
      ],
      "metadata": {
        "collapsed": false,
        "id": "Uv966rMsdUXn"
      }
    },
    {
      "cell_type": "code",
      "source": [
        "!git clone https://github.com/lychanl/two-player-games.git"
      ],
      "outputs": [
        {
          "output_type": "stream",
          "name": "stdout",
          "text": [
            "Cloning into 'two-player-games'...\n",
            "remote: Enumerating objects: 106, done.\u001b[K\n",
            "remote: Counting objects: 100% (83/83), done.\u001b[K\n",
            "remote: Compressing objects: 100% (54/54), done.\u001b[K\n",
            "remote: Total 106 (delta 45), reused 60 (delta 29), pack-reused 23\u001b[K\n",
            "Receiving objects: 100% (106/106), 26.76 KiB | 2.06 MiB/s, done.\n",
            "Resolving deltas: 100% (50/50), done.\n"
          ]
        }
      ],
      "execution_count": null,
      "metadata": {
        "collapsed": true,
        "id": "b5TCM7DfdUXo",
        "colab": {
          "base_uri": "https://localhost:8080/"
        },
        "outputId": "104b209f-3fca-4cf6-bfec-b585d859d726"
      }
    },
    {
      "cell_type": "code",
      "source": [
        "from typing import Tuple, List\n",
        "from two_player_games.player import Player\n",
        "from two_player_games.games.connect_four import ConnectFour, ConnectFourMove\n",
        "\n",
        "import numpy as np\n",
        "import math\n",
        "import time\n",
        "import random"
      ],
      "metadata": {
        "id": "aytpjy9Cc9Ed"
      },
      "execution_count": null,
      "outputs": []
    },
    {
      "cell_type": "markdown",
      "source": [
        "Wielkość planszy"
      ],
      "metadata": {
        "collapsed": false,
        "id": "Dvb4btg2dUXp"
      }
    },
    {
      "cell_type": "code",
      "source": [
        "ROW_COUNT = 6\n",
        "COLUMN_COUNT = 7"
      ],
      "outputs": [],
      "execution_count": null,
      "metadata": {
        "id": "4vZiHnCGdUXp"
      }
    },
    {
      "cell_type": "code",
      "source": [
        "class MinMaxSolver:\n",
        "\n",
        "    def __init__(self, game: ConnectFour):\n",
        "        self.game = game\n",
        "        self.column_count = len(self.game.state.fields)\n",
        "        self.row_count = len(self.game.state.fields[0])\n",
        "\n",
        "    def evaluate_position(self, player: Player)->float:\n",
        "        '''Calculate score (chance of winning) for player in current game state'''\n",
        "        position_score = 0\n",
        "\n",
        "        if self.game.is_finished():\n",
        "          # Draw\n",
        "          if self.game.get_winner() == None:\n",
        "            position_score = 0\n",
        "            return position_score\n",
        "          # Player won\n",
        "          elif player.char == self.game.get_winner().char:\n",
        "              position_score = 10000\n",
        "              return position_score\n",
        "          # Player lost\n",
        "          else:\n",
        "              position_score = -10000\n",
        "              return position_score\n",
        "\n",
        "        #Non-terminal position\n",
        "        position_score += self.evaluate_rows(player)\n",
        "        position_score += self.evaluate_columns(player)\n",
        "        position_score += self.evaluate_diagonals(player)\n",
        "        return position_score\n",
        "\n",
        "\n",
        "    def evaluate_rows(self, player: Player)->float:\n",
        "        '''Calculate score in rows'''\n",
        "        row_score = 0\n",
        "\n",
        "        for row_index in range(self.row_count):\n",
        "            # Creating a list with values of consecutive row\n",
        "            row_values = [self.game.state.fields[column_index][row_index] for column_index in range(self.column_count)]\n",
        "            # Evaluating every four in a row\n",
        "            for column_index in range(self.column_count-3):\n",
        "                four = row_values[column_index:column_index+3+1]\n",
        "                row_score += self.evaluate_four(four, player)\n",
        "\n",
        "        return row_score\n",
        "\n",
        "    def evaluate_columns(self, player: Player)->float:\n",
        "        '''Calculate score in columns'''\n",
        "        row_score = 0\n",
        "\n",
        "        for column_index in range(self.column_count):\n",
        "          # Creating a list with values of consecutive column\n",
        "            column_values = self.game.state.fields[column_index]\n",
        "            # Evaluating every four in a column\n",
        "            for row_index in range(self.row_count-3):\n",
        "                four = column_values[row_index:row_index+3+1]\n",
        "                row_score += self.evaluate_four(four, player)\n",
        "\n",
        "        return row_score\n",
        "\n",
        "    def evaluate_diagonals(self, player: Player)->float:\n",
        "        '''Calculate score in diagonals'''\n",
        "        # Finding all diagonals\n",
        "        fields_array = np.array(self.game.state.fields)\n",
        "        diagonals = [fields_array[::-1,:].diagonal(i) for i in range(-self.column_count + 1, self.row_count)]\n",
        "        diagonals.extend(fields_array.diagonal(i) for i in range(self.row_count - 1, -self.column_count, -1))\n",
        "        diagonals = [diag.tolist() for diag in diagonals]\n",
        "\n",
        "        # Evaluating every four in every diagonal\n",
        "        diagonal_score = 0\n",
        "        for diagonal in diagonals:\n",
        "            if len(diagonal) >= 4:\n",
        "                for i in range(len(diagonal)-3):\n",
        "                  diagonal_score += self.evaluate_four(diagonal[i:i+3+1], player)\n",
        "\n",
        "        return diagonal_score\n",
        "\n",
        "\n",
        "    def evaluate_four(self, fields: List, player: Player)->float:\n",
        "        '''Grants a score for given four based on chance of winning. If no one can win, score = 0.'''\n",
        "\n",
        "        player_fields = fields.count(player)\n",
        "        empty_fields = fields.count(None)\n",
        "        opponent_fields = 4 - fields.count(player) - fields.count(None)\n",
        "\n",
        "        if player_fields == 3 and empty_fields == 1:\n",
        "            return 10\n",
        "        elif player_fields == 2 and empty_fields == 2:\n",
        "            return 2\n",
        "        elif opponent_fields == 3 and empty_fields == 1:\n",
        "            return -10\n",
        "        elif opponent_fields == 2 and empty_fields == 2:\n",
        "            return -2\n",
        "        else:\n",
        "          return 0\n",
        "\n",
        "\n",
        "    def get_best_move(self)->int:\n",
        "        pass\n",
        "\n",
        "\n",
        "    def is_valid_move(self, col_index:int)->bool:\n",
        "        '''Checks if move in given column is possible in current game state'''\n",
        "        valid_moves = self.game.get_moves()\n",
        "        return ConnectFourMove(col_index) in valid_moves\n",
        "\n",
        "    def minimax(self, depth, alpha:float, beta:float, is_maximizing_player:bool, uses_alpha_beta = True)-> Tuple[int, float]:\n",
        "\n",
        "        if depth == 0 or self.game.is_finished():\n",
        "            evaluated = self.evaluate_position(self.game.first_player)\n",
        "            return (-1, evaluated)\n",
        "\n",
        "        game_state_before_changes = self.game.state\n",
        "        available_moves = self.game.get_moves()\n",
        "        move_scores = []\n",
        "\n",
        "        for move in available_moves:\n",
        "            self.game.make_move(move)\n",
        "            move_score = self.minimax(depth-1, alpha, beta, not is_maximizing_player, uses_alpha_beta)[1]\n",
        "            move_scores.append(move_score)\n",
        "            self.game.state = game_state_before_changes\n",
        "\n",
        "            if is_maximizing_player:\n",
        "                if uses_alpha_beta:\n",
        "                    if move_score > alpha:\n",
        "                        alpha = move_score\n",
        "                        move_alpha = move.column\n",
        "                    if move_score > beta:\n",
        "                        return (move.column, move_score)\n",
        "            else:\n",
        "                if uses_alpha_beta:\n",
        "                    if move_score < beta:\n",
        "                        beta = move_score\n",
        "                        move_beta = move.column\n",
        "                    if move_score < alpha:\n",
        "                        return (move.column, move_score)\n",
        "\n",
        "        if is_maximizing_player:\n",
        "            best_move_index = move_scores.index(max(move_scores))\n",
        "        else:\n",
        "            best_move_index = move_scores.index(min(move_scores))\n",
        "        return (available_moves[best_move_index].column, move_scores[best_move_index])\n",
        "\n",
        "\n",
        "    def play_predicted_moves(self, initial_depth, initial_is_maximizing_player):\n",
        "        '''Calculates best move taking #initial_depth moves into account./n\n",
        "           Plays the exact predicted moves, illustrates them on game board'''\n",
        "        is_maximizing_player = initial_is_maximizing_player\n",
        "\n",
        "        for depth in range(initial_depth, -1, -1):\n",
        "            move, exp_score = self.minimax(depth, -math.inf, math.inf, is_maximizing_player, False)\n",
        "\n",
        "            if move != -1:\n",
        "                print(\"\\nMove \" + self.game.get_current_player().char + str(move))\n",
        "                self.game.make_move(ConnectFourMove(move))\n",
        "                print(self.game)\n",
        "            else:\n",
        "                print(\"Score: \" + str(exp_score))\n",
        "\n",
        "            is_maximizing_player = not is_maximizing_player\n"
      ],
      "outputs": [],
      "execution_count": null,
      "metadata": {
        "id": "2-ph0a4sdUXq"
      }
    },
    {
      "cell_type": "markdown",
      "source": [
        "## Test solver vs solver"
      ],
      "metadata": {
        "id": "366kmrMtRfEY"
      }
    },
    {
      "cell_type": "code",
      "source": [
        "def test_two_solvers(depth_p1, depth_p2, uses_alpha_beta = True, verbose = 0, existing_game = None):\n",
        "    p1 = Player(\"a\")\n",
        "    p2 = Player(\"b\")\n",
        "    if existing_game is None:\n",
        "        game = ConnectFour(size=(COLUMN_COUNT, ROW_COUNT), first_player=p1, second_player=p2)\n",
        "    else:\n",
        "        game = existing_game\n",
        "\n",
        "    moves = []\n",
        "    times = 0\n",
        "\n",
        "    solver = MinMaxSolver(game)\n",
        "    is_maximizing_player = True\n",
        "    while not game.is_finished():\n",
        "        if is_maximizing_player:\n",
        "            depth = depth_p1\n",
        "        else:\n",
        "            depth = depth_p2\n",
        "        start = time.time()\n",
        "        best_move, score = solver.minimax(depth, -math.inf, math.inf, is_maximizing_player, uses_alpha_beta)\n",
        "        end = time.time()\n",
        "        times += (end-start)\n",
        "        game.make_move(ConnectFourMove(best_move))\n",
        "        moves.append(best_move)\n",
        "        solver.game = game\n",
        "        is_maximizing_player = not is_maximizing_player\n",
        "        if verbose == 2:\n",
        "            print(game)\n",
        "            print(\"Score:\", solver.minimax(0, -math.inf, math.inf, True, uses_alpha_beta)[1])\n",
        "\n",
        "    if verbose == 1:\n",
        "        print(game)\n",
        "    if game.get_winner() == None:\n",
        "        result = 0\n",
        "    elif game.get_winner().char == p1.char:\n",
        "        result = 1\n",
        "    else:\n",
        "        result = -1\n",
        "    return (result, times)\n",
        "\n"
      ],
      "metadata": {
        "id": "lvibsCWI6Z-m"
      },
      "execution_count": null,
      "outputs": []
    },
    {
      "cell_type": "markdown",
      "source": [
        "####Equal depth"
      ],
      "metadata": {
        "id": "slsMr-06g2Zt"
      }
    },
    {
      "cell_type": "code",
      "source": [
        "test_two_solvers(1,1,True,1)"
      ],
      "metadata": {
        "colab": {
          "base_uri": "https://localhost:8080/"
        },
        "id": "rojO8Q2dgaC-",
        "outputId": "acf13194-006c-4c23-eeba-0c866ef24cba"
      },
      "execution_count": null,
      "outputs": [
        {
          "output_type": "stream",
          "name": "stdout",
          "text": [
            "Current player: a\n",
            "[ ][ ][ ][ ][ ][ ][ ]\n",
            "[a][ ][ ][ ][ ][ ][ ]\n",
            "[b][ ][ ][ ][ ][ ][ ]\n",
            "[b][b][b][b][ ][ ][ ]\n",
            "[b][a][a][a][ ][ ][ ]\n",
            "[a][a][a][b][ ][ ][ ]\n"
          ]
        },
        {
          "output_type": "execute_result",
          "data": {
            "text/plain": [
              "(-1, 0.05772113800048828)"
            ]
          },
          "metadata": {},
          "execution_count": 11
        }
      ]
    },
    {
      "cell_type": "code",
      "source": [
        "test_two_solvers(2,2,True,1)"
      ],
      "metadata": {
        "colab": {
          "base_uri": "https://localhost:8080/"
        },
        "id": "bHRkFPuMgqM3",
        "outputId": "753fd0fa-7911-4194-aebf-0ba4934af4de"
      },
      "execution_count": null,
      "outputs": [
        {
          "output_type": "stream",
          "name": "stdout",
          "text": [
            "Current player: b\n",
            "[b][b][a][b][b][ ][b]\n",
            "[b][a][b][a][a][a][a]\n",
            "[b][b][a][b][b][b][a]\n",
            "[a][a][b][b][a][a][b]\n",
            "[b][b][a][a][b][a][a]\n",
            "[a][a][b][a][a][b][a]\n"
          ]
        },
        {
          "output_type": "execute_result",
          "data": {
            "text/plain": [
              "(1, 0.2475874423980713)"
            ]
          },
          "metadata": {},
          "execution_count": 7
        }
      ]
    },
    {
      "cell_type": "code",
      "source": [
        "test_two_solvers(3,3,True,1)"
      ],
      "metadata": {
        "colab": {
          "base_uri": "https://localhost:8080/"
        },
        "id": "ma-r5GrMgtpF",
        "outputId": "15da8703-cc13-4bbb-a32a-c56b5be35bc5"
      },
      "execution_count": null,
      "outputs": [
        {
          "output_type": "stream",
          "name": "stdout",
          "text": [
            "Current player: b\n",
            "[a][ ][ ][ ][ ][ ][ ]\n",
            "[b][b][ ][ ][ ][ ][ ]\n",
            "[b][b][b][ ][ ][ ][ ]\n",
            "[b][a][a][a][a][ ][ ]\n",
            "[a][a][a][b][b][ ][ ]\n",
            "[a][a][b][b][a][ ][ ]\n"
          ]
        },
        {
          "output_type": "execute_result",
          "data": {
            "text/plain": [
              "(1, 0.8784451484680176)"
            ]
          },
          "metadata": {},
          "execution_count": 8
        }
      ]
    },
    {
      "cell_type": "code",
      "source": [
        "test_two_solvers(4,4,True,1)"
      ],
      "metadata": {
        "colab": {
          "base_uri": "https://localhost:8080/"
        },
        "id": "mxB88YL3gv0B",
        "outputId": "5c6e75f2-981a-4d58-e1d7-c8e1ca42c45b"
      },
      "execution_count": null,
      "outputs": [
        {
          "output_type": "stream",
          "name": "stdout",
          "text": [
            "Current player: a\n",
            "[b][b][a][b][b][b][b]\n",
            "[b][a][a][b][a][a][a]\n",
            "[a][b][b][b][a][b][b]\n",
            "[b][a][a][a][b][a][a]\n",
            "[a][b][b][a][a][b][b]\n",
            "[b][a][a][a][b][a][a]\n"
          ]
        },
        {
          "output_type": "execute_result",
          "data": {
            "text/plain": [
              "(-1, 4.030450820922852)"
            ]
          },
          "metadata": {},
          "execution_count": 125
        }
      ]
    },
    {
      "cell_type": "code",
      "source": [
        "test_two_solvers(5,5,True,1)"
      ],
      "metadata": {
        "colab": {
          "base_uri": "https://localhost:8080/"
        },
        "id": "pYB9hiuXgy34",
        "outputId": "5a4f6eb2-8fd2-4faa-c71e-afa0835e5329"
      },
      "execution_count": null,
      "outputs": [
        {
          "output_type": "stream",
          "name": "stdout",
          "text": [
            "Current player: a\n",
            "[ ][ ][b][b][ ][ ][ ]\n",
            "[a][ ][a][b][ ][ ][ ]\n",
            "[b][ ][a][a][ ][b][ ]\n",
            "[a][b][a][b][b][a][b]\n",
            "[a][b][b][a][a][b][a]\n",
            "[a][a][a][b][b][b][a]\n"
          ]
        },
        {
          "output_type": "execute_result",
          "data": {
            "text/plain": [
              "(-1, 30.27606964111328)"
            ]
          },
          "metadata": {},
          "execution_count": 126
        }
      ]
    },
    {
      "cell_type": "markdown",
      "source": [
        "####P1 greater depth"
      ],
      "metadata": {
        "id": "9snJn6JxhDZz"
      }
    },
    {
      "cell_type": "code",
      "source": [
        "test_two_solvers(2,1,True,1)"
      ],
      "metadata": {
        "colab": {
          "base_uri": "https://localhost:8080/"
        },
        "id": "NX7rbgpKg7Ym",
        "outputId": "31bd9ec7-b6a7-41c7-ccd9-8441502557f7"
      },
      "execution_count": null,
      "outputs": [
        {
          "output_type": "stream",
          "name": "stdout",
          "text": [
            "Current player: b\n",
            "[b][a][ ][a][a][b][ ]\n",
            "[b][b][ ][a][b][a][ ]\n",
            "[b][a][ ][b][a][b][ ]\n",
            "[a][b][ ][b][b][b][a]\n",
            "[b][a][a][a][a][a][b]\n",
            "[a][b][b][a][a][b][a]\n"
          ]
        },
        {
          "output_type": "execute_result",
          "data": {
            "text/plain": [
              "(1, 0.17155718803405762)"
            ]
          },
          "metadata": {},
          "execution_count": 127
        }
      ]
    },
    {
      "cell_type": "code",
      "source": [
        "test_two_solvers(3,1,True,1)"
      ],
      "metadata": {
        "colab": {
          "base_uri": "https://localhost:8080/"
        },
        "id": "ZwW5fY4phDCq",
        "outputId": "b95cf768-c00c-4cf0-c114-cec8e4c09068"
      },
      "execution_count": null,
      "outputs": [
        {
          "output_type": "stream",
          "name": "stdout",
          "text": [
            "Current player: a\n",
            "[a][ ][ ][ ][ ][ ][ ]\n",
            "[a][a][ ][ ][ ][ ][ ]\n",
            "[b][b][a][ ][ ][ ][ ]\n",
            "[b][b][b][b][ ][ ][ ]\n",
            "[b][a][a][b][ ][ ][ ]\n",
            "[a][a][a][b][ ][ ][ ]\n"
          ]
        },
        {
          "output_type": "execute_result",
          "data": {
            "text/plain": [
              "(-1, 0.390411376953125)"
            ]
          },
          "metadata": {},
          "execution_count": 128
        }
      ]
    },
    {
      "cell_type": "code",
      "source": [
        "test_two_solvers(4,1,True,1)"
      ],
      "metadata": {
        "colab": {
          "base_uri": "https://localhost:8080/"
        },
        "id": "fOCb-Is9hIkD",
        "outputId": "91734246-4477-4eb1-d4bc-7376938bf9e1"
      },
      "execution_count": null,
      "outputs": [
        {
          "output_type": "stream",
          "name": "stdout",
          "text": [
            "Current player: b\n",
            "[ ][ ][ ][b][a][ ][ ]\n",
            "[ ][ ][b][a][a][ ][ ]\n",
            "[a][ ][a][b][b][a][ ]\n",
            "[b][ ][b][a][a][b][ ]\n",
            "[b][ ][b][a][a][a][ ]\n",
            "[b][ ][a][a][b][b][ ]\n"
          ]
        },
        {
          "output_type": "execute_result",
          "data": {
            "text/plain": [
              "(1, 3.573117971420288)"
            ]
          },
          "metadata": {},
          "execution_count": 129
        }
      ]
    },
    {
      "cell_type": "code",
      "source": [
        "test_two_solvers(5,1,True,1)"
      ],
      "metadata": {
        "colab": {
          "base_uri": "https://localhost:8080/"
        },
        "id": "DSFB-iHIhLdK",
        "outputId": "4b78493b-2aa7-42e5-f283-622998b62e18"
      },
      "execution_count": null,
      "outputs": [
        {
          "output_type": "stream",
          "name": "stdout",
          "text": [
            "Current player: b\n",
            "[ ][ ][ ][ ][ ][ ][ ]\n",
            "[ ][ ][ ][ ][ ][ ][ ]\n",
            "[a][ ][ ][ ][ ][ ][ ]\n",
            "[b][a][b][b][ ][ ][ ]\n",
            "[b][b][a][a][a][ ][ ]\n",
            "[b][a][a][a][b][ ][ ]\n"
          ]
        },
        {
          "output_type": "execute_result",
          "data": {
            "text/plain": [
              "(1, 9.675066709518433)"
            ]
          },
          "metadata": {},
          "execution_count": 130
        }
      ]
    },
    {
      "cell_type": "code",
      "source": [
        "test_two_solvers(3,2,True,1)"
      ],
      "metadata": {
        "colab": {
          "base_uri": "https://localhost:8080/"
        },
        "id": "1j3CZVWPhP7V",
        "outputId": "8b1f9e2d-2e83-4adc-f52e-6e731b7348c1"
      },
      "execution_count": null,
      "outputs": [
        {
          "output_type": "stream",
          "name": "stdout",
          "text": [
            "Current player: b\n",
            "[b][a][ ][ ][ ][ ][ ]\n",
            "[b][a][ ][ ][ ][ ][ ]\n",
            "[a][b][b][a][a][ ][ ]\n",
            "[a][b][a][a][b][ ][ ]\n",
            "[b][a][b][b][a][ ][ ]\n",
            "[a][a][b][a][b][b][ ]\n"
          ]
        },
        {
          "output_type": "execute_result",
          "data": {
            "text/plain": [
              "(1, 0.9622964859008789)"
            ]
          },
          "metadata": {},
          "execution_count": 131
        }
      ]
    },
    {
      "cell_type": "code",
      "source": [
        "test_two_solvers(4,2,True,1)"
      ],
      "metadata": {
        "colab": {
          "base_uri": "https://localhost:8080/"
        },
        "id": "xdr5-rQ-hSVc",
        "outputId": "d15d13b9-e5b7-4f09-a2d9-15cc61c76262"
      },
      "execution_count": null,
      "outputs": [
        {
          "output_type": "stream",
          "name": "stdout",
          "text": [
            "Current player: b\n",
            "[b][b][a][ ][ ][a][a]\n",
            "[a][a][b][a][ ][b][b]\n",
            "[b][b][a][b][ ][b][a]\n",
            "[b][a][a][a][ ][a][b]\n",
            "[a][a][b][b][ ][a][a]\n",
            "[b][b][a][a][ ][b][b]\n"
          ]
        },
        {
          "output_type": "execute_result",
          "data": {
            "text/plain": [
              "(1, 3.4718096256256104)"
            ]
          },
          "metadata": {},
          "execution_count": 132
        }
      ]
    },
    {
      "cell_type": "code",
      "source": [
        "test_two_solvers(4,3,True,1)"
      ],
      "metadata": {
        "colab": {
          "base_uri": "https://localhost:8080/"
        },
        "id": "Q6X89GAmhVWY",
        "outputId": "dd6711f2-43e1-4d50-cbfc-1cadc2c478c7"
      },
      "execution_count": null,
      "outputs": [
        {
          "output_type": "stream",
          "name": "stdout",
          "text": [
            "Current player: b\n",
            "[ ][ ][ ][ ][ ][ ][ ]\n",
            "[ ][ ][b][a][ ][ ][ ]\n",
            "[ ][b][a][b][ ][ ][ ]\n",
            "[b][a][a][a][ ][ ][ ]\n",
            "[a][b][b][a][ ][ ][ ]\n",
            "[b][b][a][a][ ][ ][ ]\n"
          ]
        },
        {
          "output_type": "execute_result",
          "data": {
            "text/plain": [
              "(1, 2.45713472366333)"
            ]
          },
          "metadata": {},
          "execution_count": 133
        }
      ]
    },
    {
      "cell_type": "code",
      "source": [
        "test_two_solvers(5,2,True,1)"
      ],
      "metadata": {
        "colab": {
          "base_uri": "https://localhost:8080/"
        },
        "id": "zaWvHcThhZdG",
        "outputId": "d2a9f47b-f2bf-42e6-d255-17d8ebf32e89"
      },
      "execution_count": null,
      "outputs": [
        {
          "output_type": "stream",
          "name": "stdout",
          "text": [
            "Current player: a\n",
            "[ ][b][a][b][a][a][ ]\n",
            "[ ][b][a][b][b][b][ ]\n",
            "[ ][a][b][b][a][a][b]\n",
            "[ ][b][b][a][b][a][a]\n",
            "[b][a][a][a][b][b][b]\n",
            "[a][b][a][a][b][a][a]\n"
          ]
        },
        {
          "output_type": "execute_result",
          "data": {
            "text/plain": [
              "(-1, 9.855266571044922)"
            ]
          },
          "metadata": {},
          "execution_count": 134
        }
      ]
    },
    {
      "cell_type": "code",
      "source": [
        "test_two_solvers(5,3,True,1)"
      ],
      "metadata": {
        "colab": {
          "base_uri": "https://localhost:8080/"
        },
        "id": "ZnVIJoJFhj3a",
        "outputId": "d493a781-fb24-4db0-aaa6-dde0e1fca416"
      },
      "execution_count": null,
      "outputs": [
        {
          "output_type": "stream",
          "name": "stdout",
          "text": [
            "Current player: a\n",
            "[b][b][a][b][b][b][b]\n",
            "[a][a][a][b][b][a][a]\n",
            "[b][b][b][a][b][b][b]\n",
            "[a][a][a][b][a][a][a]\n",
            "[a][b][a][a][a][b][b]\n",
            "[b][b][a][a][a][b][a]\n"
          ]
        },
        {
          "output_type": "execute_result",
          "data": {
            "text/plain": [
              "(-1, 16.595146417617798)"
            ]
          },
          "metadata": {},
          "execution_count": 135
        }
      ]
    },
    {
      "cell_type": "code",
      "source": [
        "test_two_solvers(5,4,True,1)"
      ],
      "metadata": {
        "colab": {
          "base_uri": "https://localhost:8080/"
        },
        "id": "w2G933LMhmmY",
        "outputId": "907bc90a-65bc-482b-be38-e56cb1ec2c7a"
      },
      "execution_count": null,
      "outputs": [
        {
          "output_type": "stream",
          "name": "stdout",
          "text": [
            "Current player: b\n",
            "[b][ ][b][a][ ][a][ ]\n",
            "[a][ ][b][b][ ][a][ ]\n",
            "[b][ ][b][b][a][a][ ]\n",
            "[a][a][a][a][b][b][ ]\n",
            "[b][b][b][a][a][a][ ]\n",
            "[b][b][a][a][b][a][ ]\n"
          ]
        },
        {
          "output_type": "execute_result",
          "data": {
            "text/plain": [
              "(1, 14.206987619400024)"
            ]
          },
          "metadata": {},
          "execution_count": 136
        }
      ]
    },
    {
      "cell_type": "markdown",
      "source": [
        "#### MinMax VS MinMax alpha beta"
      ],
      "metadata": {
        "id": "xob5gazghoW8"
      }
    },
    {
      "cell_type": "code",
      "source": [
        "test_two_solvers(1,1,False,1)"
      ],
      "metadata": {
        "colab": {
          "base_uri": "https://localhost:8080/"
        },
        "id": "Rhf9haqZiCWA",
        "outputId": "febadcd4-46b1-4a39-83b2-0175c6ef0d21"
      },
      "execution_count": null,
      "outputs": [
        {
          "output_type": "stream",
          "name": "stdout",
          "text": [
            "Current player: a\n",
            "[ ][ ][ ][ ][ ][ ][ ]\n",
            "[a][ ][ ][ ][ ][ ][ ]\n",
            "[b][ ][ ][ ][ ][ ][ ]\n",
            "[b][b][b][b][ ][ ][ ]\n",
            "[b][a][a][a][ ][ ][ ]\n",
            "[a][a][a][b][ ][ ][ ]\n"
          ]
        },
        {
          "output_type": "execute_result",
          "data": {
            "text/plain": [
              "(-1, 0.05211186408996582)"
            ]
          },
          "metadata": {},
          "execution_count": 141
        }
      ]
    },
    {
      "cell_type": "code",
      "source": [
        "test_two_solvers(1,1,True,1)"
      ],
      "metadata": {
        "colab": {
          "base_uri": "https://localhost:8080/"
        },
        "id": "25Y7-SQDiFQp",
        "outputId": "3b1fd428-d21f-45d8-993d-f4dc9417cb63"
      },
      "execution_count": null,
      "outputs": [
        {
          "output_type": "stream",
          "name": "stdout",
          "text": [
            "Current player: a\n",
            "[ ][ ][ ][ ][ ][ ][ ]\n",
            "[a][ ][ ][ ][ ][ ][ ]\n",
            "[b][ ][ ][ ][ ][ ][ ]\n",
            "[b][b][b][b][ ][ ][ ]\n",
            "[b][a][a][a][ ][ ][ ]\n",
            "[a][a][a][b][ ][ ][ ]\n"
          ]
        },
        {
          "output_type": "execute_result",
          "data": {
            "text/plain": [
              "(-1, 0.03187727928161621)"
            ]
          },
          "metadata": {},
          "execution_count": 142
        }
      ]
    },
    {
      "cell_type": "code",
      "source": [
        "test_two_solvers(3,2,False,1)"
      ],
      "metadata": {
        "colab": {
          "base_uri": "https://localhost:8080/"
        },
        "id": "BZbOAauSh0xP",
        "outputId": "ebe0c33c-13c0-4923-e7eb-58f42f1635c9"
      },
      "execution_count": null,
      "outputs": [
        {
          "output_type": "stream",
          "name": "stdout",
          "text": [
            "Current player: b\n",
            "[b][a][ ][ ][ ][ ][ ]\n",
            "[b][a][ ][ ][ ][ ][ ]\n",
            "[a][b][b][a][a][ ][ ]\n",
            "[a][b][a][a][b][ ][ ]\n",
            "[b][a][b][b][a][ ][ ]\n",
            "[a][a][b][a][b][b][ ]\n"
          ]
        },
        {
          "output_type": "execute_result",
          "data": {
            "text/plain": [
              "(1, 1.9072718620300293)"
            ]
          },
          "metadata": {},
          "execution_count": 138
        }
      ]
    },
    {
      "cell_type": "code",
      "source": [
        "test_two_solvers(3,2,True,1)"
      ],
      "metadata": {
        "colab": {
          "base_uri": "https://localhost:8080/"
        },
        "id": "ZCAmeCHFh7s5",
        "outputId": "97242cf3-e6b6-41f9-b71b-1942a90cc790"
      },
      "execution_count": null,
      "outputs": [
        {
          "output_type": "stream",
          "name": "stdout",
          "text": [
            "Current player: b\n",
            "[b][a][ ][ ][ ][ ][ ]\n",
            "[b][a][ ][ ][ ][ ][ ]\n",
            "[a][b][b][a][a][ ][ ]\n",
            "[a][b][a][a][b][ ][ ]\n",
            "[b][a][b][b][a][ ][ ]\n",
            "[a][a][b][a][b][b][ ]\n"
          ]
        },
        {
          "output_type": "execute_result",
          "data": {
            "text/plain": [
              "(1, 0.6595687866210938)"
            ]
          },
          "metadata": {},
          "execution_count": 140
        }
      ]
    },
    {
      "cell_type": "code",
      "source": [
        "test_two_solvers(4,4,False,1)"
      ],
      "metadata": {
        "colab": {
          "base_uri": "https://localhost:8080/"
        },
        "id": "gIAGQlVSiTKh",
        "outputId": "81e81c7c-5299-4f69-ae0c-acb04635af49"
      },
      "execution_count": null,
      "outputs": [
        {
          "output_type": "stream",
          "name": "stdout",
          "text": [
            "Current player: a\n",
            "[b][b][a][b][b][b][b]\n",
            "[b][a][a][b][a][a][a]\n",
            "[a][b][b][b][a][b][b]\n",
            "[b][a][a][a][b][a][a]\n",
            "[a][b][b][a][a][b][b]\n",
            "[b][a][a][a][b][a][a]\n"
          ]
        },
        {
          "output_type": "execute_result",
          "data": {
            "text/plain": [
              "(-1, 14.355254173278809)"
            ]
          },
          "metadata": {},
          "execution_count": 143
        }
      ]
    },
    {
      "cell_type": "code",
      "source": [
        "test_two_solvers(4,4,True,1)"
      ],
      "metadata": {
        "colab": {
          "base_uri": "https://localhost:8080/"
        },
        "id": "18AfabzviVXN",
        "outputId": "59bd3633-fc53-4c88-badb-b74337d13755"
      },
      "execution_count": null,
      "outputs": [
        {
          "output_type": "stream",
          "name": "stdout",
          "text": [
            "Current player: a\n",
            "[b][b][a][b][b][b][b]\n",
            "[b][a][a][b][a][a][a]\n",
            "[a][b][b][b][a][b][b]\n",
            "[b][a][a][a][b][a][a]\n",
            "[a][b][b][a][a][b][b]\n",
            "[b][a][a][a][b][a][a]\n"
          ]
        },
        {
          "output_type": "execute_result",
          "data": {
            "text/plain": [
              "(-1, 6.250838041305542)"
            ]
          },
          "metadata": {},
          "execution_count": 144
        }
      ]
    },
    {
      "cell_type": "markdown",
      "source": [
        "#### Custom game"
      ],
      "metadata": {
        "id": "O5XnPzq7imYz"
      }
    },
    {
      "cell_type": "code",
      "source": [
        "p1 = Player(\"a\")\n",
        "p2 = Player(\"b\")\n",
        "game = ConnectFour(size=(COLUMN_COUNT, ROW_COUNT), first_player=p1, second_player=p2)\n",
        "for move in [3, 0]:\n",
        "    game.make_move(ConnectFourMove(move))\n",
        "\n",
        "test_two_solvers(3,3,False, 1, game)"
      ],
      "metadata": {
        "colab": {
          "base_uri": "https://localhost:8080/"
        },
        "id": "07aG1bsTkCpJ",
        "outputId": "13968b15-a0bc-4ab1-a94e-0bb37b223852"
      },
      "execution_count": null,
      "outputs": [
        {
          "output_type": "stream",
          "name": "stdout",
          "text": [
            "Current player: b\n",
            "[b][ ][ ][ ][ ][ ][ ]\n",
            "[a][ ][ ][b][ ][ ][ ]\n",
            "[a][ ][ ][b][b][ ][ ]\n",
            "[b][ ][a][a][a][a][ ]\n",
            "[b][b][b][a][a][a][b]\n",
            "[b][a][b][a][a][a][b]\n"
          ]
        },
        {
          "output_type": "execute_result",
          "data": {
            "text/plain": [
              "(1, 1.8918402194976807)"
            ]
          },
          "metadata": {},
          "execution_count": 12
        }
      ]
    },
    {
      "cell_type": "markdown",
      "source": [
        "## Test solver VS random moves"
      ],
      "metadata": {
        "id": "ZQr6gISvRj1j"
      }
    },
    {
      "cell_type": "code",
      "source": [
        "def round_solver_random(depth_p1, verbose = 1, existing_game = None):\n",
        "    p1 = Player(\"a\")\n",
        "    p2 = Player(\"b\")\n",
        "    if existing_game is None:\n",
        "        game = ConnectFour(size=(COLUMN_COUNT, ROW_COUNT), first_player=p1, second_player=p2)\n",
        "    else:\n",
        "        game = existing_game\n",
        "\n",
        "    moves = []\n",
        "    solver = MinMaxSolver(game)\n",
        "    is_maximizing_player = True\n",
        "\n",
        "    while not game.is_finished():\n",
        "        if is_maximizing_player:\n",
        "            best_move, score = solver.minimax(depth_p1, -math.inf, math.inf, is_maximizing_player, True)\n",
        "            move = best_move\n",
        "        else:\n",
        "            available_moves = game.get_moves()\n",
        "            random_move = random.choice(available_moves).column\n",
        "            move = random_move\n",
        "\n",
        "        game.make_move(ConnectFourMove(move))\n",
        "        moves.append(move)\n",
        "        solver.game = game\n",
        "        is_maximizing_player = not is_maximizing_player\n",
        "        if verbose==2:\n",
        "            print(game)\n",
        "            print(\"Score:\", solver.minimax(0, -math.inf, math.inf, True, True)[1])\n",
        "\n",
        "    if verbose ==1:\n",
        "        print(game)\n",
        "    if game.get_winner() == None:\n",
        "        result = 0\n",
        "    elif game.get_winner().char == p1.char:\n",
        "        result = 1\n",
        "    else:\n",
        "        result = -1\n",
        "    return (result)\n",
        "\n",
        "def test_solver_random(depth_p1, verbose = 0, rounds_nr=20, existing_game = None):\n",
        "    if existing_game is not None:\n",
        "        existing_game_roud_start = existing_game.state\n",
        "\n",
        "    results_meaning = {1: \"P1 won\", 0: \"Draw\", -1: \"P2 won\"}\n",
        "    results_count = {1: 0, 0: 0, -1: 0}\n",
        "    for round_nr in range(rounds_nr):\n",
        "        results_count[round_solver_random(depth_p1, verbose, existing_game)] += 1\n",
        "        if existing_game is not None:\n",
        "            existing_game.state = existing_game_roud_start\n",
        "\n",
        "    for result in results_meaning.keys():\n",
        "        print(results_meaning[result] +  \" \" + str(results_count[result]))\n"
      ],
      "metadata": {
        "id": "mFcq9sb8TpHV"
      },
      "execution_count": null,
      "outputs": []
    },
    {
      "cell_type": "code",
      "source": [
        "test_solver_random(1, 0, 100)"
      ],
      "metadata": {
        "colab": {
          "base_uri": "https://localhost:8080/"
        },
        "id": "YDD4KL7aV0Uj",
        "outputId": "1541b0bc-3390-4ef0-edca-a57e4f6fc954"
      },
      "execution_count": null,
      "outputs": [
        {
          "output_type": "stream",
          "name": "stdout",
          "text": [
            "P1 won 99\n",
            "Draw 0\n",
            "P2 won 1\n"
          ]
        }
      ]
    },
    {
      "cell_type": "markdown",
      "source": [
        "##Wnioski:    \n",
        "- wyniki przy zastosowaniu minmax z obinaniem alpha beta są takie same jak bez obcinania, a ich uzyskanie zajmuje mniej czasu\n",
        "- zazwyczaj opłaca się używać większej głębokości przeszukiwania\n",
        "- zastosowanie solvera prawie zawsze jest lepsze niż losowe ruchy"
      ],
      "metadata": {
        "id": "_pKsNaUgqbLb"
      }
    },
    {
      "cell_type": "markdown",
      "source": [
        "Shows predicted moves"
      ],
      "metadata": {
        "id": "fNVvDh_LfXXG"
      }
    },
    {
      "cell_type": "code",
      "source": [
        "p1 = Player(\"a\")\n",
        "p2 = Player(\"b\")\n",
        "game = ConnectFour(size=(COLUMN_COUNT, ROW_COUNT), first_player=p1, second_player=p2)\n",
        "game.make_move(ConnectFourMove(0))\n",
        "game.make_move(ConnectFourMove(0))\n",
        "game.make_move(ConnectFourMove(1))\n",
        "game.make_move(ConnectFourMove(2))\n",
        "print(game)\n",
        "solver = MinMaxSolver(game)\n",
        "print(solver.minimax(4,-math.inf, math.inf, True))\n",
        "solver.play_predicted_moves(4, True)"
      ],
      "metadata": {
        "id": "mOMrqKf10sBJ",
        "colab": {
          "base_uri": "https://localhost:8080/"
        },
        "outputId": "218f40c4-0e9a-46fa-b0f8-1cb65cfaca32"
      },
      "execution_count": null,
      "outputs": [
        {
          "output_type": "stream",
          "name": "stdout",
          "text": [
            "Current player: a\n",
            "[ ][ ][ ][ ][ ][ ][ ]\n",
            "[ ][ ][ ][ ][ ][ ][ ]\n",
            "[ ][ ][ ][ ][ ][ ][ ]\n",
            "[ ][ ][ ][ ][ ][ ][ ]\n",
            "[b][ ][ ][ ][ ][ ][ ]\n",
            "[a][a][b][ ][ ][ ][ ]\n",
            "(1, -2)\n",
            "\n",
            "Move a1\n",
            "Current player: b\n",
            "[ ][ ][ ][ ][ ][ ][ ]\n",
            "[ ][ ][ ][ ][ ][ ][ ]\n",
            "[ ][ ][ ][ ][ ][ ][ ]\n",
            "[ ][ ][ ][ ][ ][ ][ ]\n",
            "[b][a][ ][ ][ ][ ][ ]\n",
            "[a][a][b][ ][ ][ ][ ]\n",
            "\n",
            "Move b0\n",
            "Current player: a\n",
            "[ ][ ][ ][ ][ ][ ][ ]\n",
            "[ ][ ][ ][ ][ ][ ][ ]\n",
            "[ ][ ][ ][ ][ ][ ][ ]\n",
            "[b][ ][ ][ ][ ][ ][ ]\n",
            "[b][a][ ][ ][ ][ ][ ]\n",
            "[a][a][b][ ][ ][ ][ ]\n",
            "\n",
            "Move a0\n",
            "Current player: b\n",
            "[ ][ ][ ][ ][ ][ ][ ]\n",
            "[ ][ ][ ][ ][ ][ ][ ]\n",
            "[a][ ][ ][ ][ ][ ][ ]\n",
            "[b][ ][ ][ ][ ][ ][ ]\n",
            "[b][a][ ][ ][ ][ ][ ]\n",
            "[a][a][b][ ][ ][ ][ ]\n",
            "\n",
            "Move b1\n",
            "Current player: a\n",
            "[ ][ ][ ][ ][ ][ ][ ]\n",
            "[ ][ ][ ][ ][ ][ ][ ]\n",
            "[a][ ][ ][ ][ ][ ][ ]\n",
            "[b][b][ ][ ][ ][ ][ ]\n",
            "[b][a][ ][ ][ ][ ][ ]\n",
            "[a][a][b][ ][ ][ ][ ]\n",
            "Score: -2\n"
          ]
        }
      ]
    }
  ],
  "metadata": {
    "kernelspec": {
      "display_name": "Python 3",
      "language": "python",
      "name": "python3"
    },
    "language_info": {
      "codemirror_mode": {
        "name": "ipython",
        "version": 2
      },
      "file_extension": ".py",
      "mimetype": "text/x-python",
      "name": "python",
      "nbconvert_exporter": "python",
      "pygments_lexer": "ipython2",
      "version": "2.7.6"
    },
    "nteract": {
      "version": "nteract-front-end@1.0.0"
    },
    "colab": {
      "provenance": [],
      "collapsed_sections": [
        "haHWRh5hX0jJ"
      ]
    }
  },
  "nbformat": 4,
  "nbformat_minor": 0
}